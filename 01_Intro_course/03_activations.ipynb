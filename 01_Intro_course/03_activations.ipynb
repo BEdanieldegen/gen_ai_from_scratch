{
 "cells": [
  {
   "cell_type": "code",
   "execution_count": 1,
   "metadata": {},
   "outputs": [],
   "source": [
    "# Activations & Gradients, BatchNorm\n",
    "\n",
    "# https://github.com/karpathy/nn-zero-to-hero/blob/master/lectures/makemore/makemore_part3_bn.ipynb\n",
    "# https://www.youtube.com/watch?v=P6sfmUTpUmc&list=PLAqhIrjkxbuWI23v9cThsA9GvCAUhRvKZ&index=4"
   ]
  },
  {
   "cell_type": "code",
   "execution_count": 2,
   "metadata": {},
   "outputs": [],
   "source": [
    "import torch\n",
    "import torch.nn.functional as F\n",
    "import matplotlib.pyplot as plt # for making figures\n",
    "%matplotlib inline"
   ]
  },
  {
   "cell_type": "code",
   "execution_count": 3,
   "metadata": {},
   "outputs": [
    {
     "data": {
      "text/plain": [
       "['emma', 'olivia', 'ava', 'isabella', 'sophia', 'charlotte', 'mia', 'amelia']"
      ]
     },
     "execution_count": 3,
     "metadata": {},
     "output_type": "execute_result"
    }
   ],
   "source": [
    "# read in all the words\n",
    "words = open('names.txt', 'r').read().splitlines()\n",
    "words[:8]\n"
   ]
  },
  {
   "cell_type": "code",
   "execution_count": 4,
   "metadata": {},
   "outputs": [
    {
     "name": "stdout",
     "output_type": "stream",
     "text": [
      "{1: 'a', 2: 'b', 3: 'c', 4: 'd', 5: 'e', 6: 'f', 7: 'g', 8: 'h', 9: 'i', 10: 'j', 11: 'k', 12: 'l', 13: 'm', 14: 'n', 15: 'o', 16: 'p', 17: 'q', 18: 'r', 19: 's', 20: 't', 21: 'u', 22: 'v', 23: 'w', 24: 'x', 25: 'y', 26: 'z', 0: '.'}\n",
      "27\n"
     ]
    }
   ],
   "source": [
    "# build the vocabulary of characters and mappings to/from integers\n",
    "chars = sorted(list(set(''.join(words))))\n",
    "stoi = {s:i+1 for i,s in enumerate(chars)}\n",
    "stoi['.'] = 0\n",
    "itos = {i:s for s,i in stoi.items()}\n",
    "vocab_size = len(itos)\n",
    "print(itos)\n",
    "print(vocab_size)"
   ]
  },
  {
   "cell_type": "markdown",
   "metadata": {},
   "source": [
    "#### Set Up\n",
    "##### as before"
   ]
  },
  {
   "cell_type": "code",
   "execution_count": 5,
   "metadata": {},
   "outputs": [
    {
     "name": "stdout",
     "output_type": "stream",
     "text": [
      "torch.Size([182625, 3]) torch.Size([182625])\n",
      "torch.Size([22655, 3]) torch.Size([22655])\n",
      "torch.Size([22866, 3]) torch.Size([22866])\n"
     ]
    }
   ],
   "source": [
    "# build the dataset\n",
    "block_size = 3 # context length: how many characters do we take to predict the next one?\n",
    "\n",
    "def build_dataset(words):  \n",
    "  X, Y = [], []\n",
    "  \n",
    "  for w in words:\n",
    "    context = [0] * block_size\n",
    "    for ch in w + '.':\n",
    "      ix = stoi[ch]\n",
    "      X.append(context)\n",
    "      Y.append(ix)\n",
    "      context = context[1:] + [ix] # crop and append\n",
    "\n",
    "  X = torch.tensor(X)\n",
    "  Y = torch.tensor(Y)\n",
    "  print(X.shape, Y.shape)\n",
    "  return X, Y\n",
    "\n",
    "import random\n",
    "random.seed(42)\n",
    "random.shuffle(words)\n",
    "n1 = int(0.8*len(words))\n",
    "n2 = int(0.9*len(words))\n",
    "\n",
    "Xtr,  Ytr  = build_dataset(words[:n1])     # 80%\n",
    "Xdev, Ydev = build_dataset(words[n1:n2])   # 10%\n",
    "Xte,  Yte  = build_dataset(words[n2:])     # 10%"
   ]
  },
  {
   "cell_type": "code",
   "execution_count": 6,
   "metadata": {},
   "outputs": [
    {
     "name": "stdout",
     "output_type": "stream",
     "text": [
      "11897\n"
     ]
    }
   ],
   "source": [
    "# MLP revisited\n",
    "n_embd = 10 # the dimensionality of the character embedding vectors\n",
    "n_hidden = 200 # the number of neurons in the hidden layer of the MLP\n",
    "\n",
    "g = torch.Generator().manual_seed(2147483647) # for reproducibility\n",
    "C  = torch.randn((vocab_size, n_embd),            generator=g)\n",
    "W1 = torch.randn((n_embd * block_size, n_hidden), generator=g) # * (5/3)/((n_embd * block_size)**0.5) #* 0.2\n",
    "b1 = torch.randn(n_hidden,                        generator=g) # * 0.01\n",
    "W2 = torch.randn((n_hidden, vocab_size),          generator=g) #* 0.01  # scale the weight close to zero (not exactly zero because: )\n",
    "b2 = torch.randn(vocab_size,                      generator=g) #* 0  # for initialization the bias shoud be zero (or equal) -> assumption: uniform distribution of all the characters\n",
    "\n",
    "\n",
    "parameters = [C, W1, b1, W2, b2]\n",
    "print(sum(p.nelement() for p in parameters)) # number of parameters in total\n",
    "for p in parameters:\n",
    "  p.requires_grad = True"
   ]
  },
  {
   "cell_type": "code",
   "execution_count": 7,
   "metadata": {},
   "outputs": [
    {
     "name": "stdout",
     "output_type": "stream",
     "text": [
      "      0/ 200000: 27.8817\n",
      "  10000/ 200000: 2.9184\n",
      "  20000/ 200000: 2.5847\n",
      "  30000/ 200000: 2.7859\n",
      "  40000/ 200000: 2.0222\n",
      "  50000/ 200000: 2.6171\n",
      "  60000/ 200000: 2.3168\n",
      "  70000/ 200000: 2.0853\n",
      "  80000/ 200000: 2.2519\n",
      "  90000/ 200000: 2.2718\n",
      " 100000/ 200000: 2.0234\n",
      " 110000/ 200000: 2.4689\n",
      " 120000/ 200000: 1.9426\n",
      " 130000/ 200000: 2.3817\n",
      " 140000/ 200000: 2.3213\n",
      " 150000/ 200000: 2.1416\n",
      " 160000/ 200000: 2.2320\n",
      " 170000/ 200000: 1.7736\n",
      " 180000/ 200000: 2.0826\n",
      " 190000/ 200000: 1.8465\n"
     ]
    }
   ],
   "source": [
    "# same optimization as last time\n",
    "max_steps = 200000\n",
    "batch_size = 32\n",
    "lossi = []\n",
    "\n",
    "for i in range(max_steps):\n",
    "  \n",
    "  # minibatch construct\n",
    "  ix = torch.randint(0, Xtr.shape[0], (batch_size,), generator=g)\n",
    "  Xb, Yb = Xtr[ix], Ytr[ix] # batch X,Y\n",
    "  \n",
    "  # forward pass\n",
    "  emb = C[Xb] # embed the characters into vectors\n",
    "  embcat = emb.view(emb.shape[0], -1) # concatenate the vectors\n",
    "  hpreact = embcat @ W1 + b1\n",
    "  h = torch.tanh(hpreact) # hidden layer\n",
    "  logits = h @ W2 + b2 # output layer\n",
    "  loss = F.cross_entropy(logits, Yb) # loss function\n",
    "  \n",
    "  # backward pass\n",
    "  for p in parameters:\n",
    "    p.grad = None\n",
    "  loss.backward()\n",
    "  \n",
    "  # update\n",
    "  lr = 0.1 if i < 100000 else 0.01 # step learning rate decay\n",
    "  for p in parameters:\n",
    "    p.data += -lr * p.grad\n",
    "\n",
    "  # track stats\n",
    "  if i % 10000 == 0: # print every once in a while\n",
    "    print(f'{i:7d}/{max_steps:7d}: {loss.item():.4f}')\n",
    "  lossi.append(loss.log10().item())\n"
   ]
  },
  {
   "cell_type": "code",
   "execution_count": 8,
   "metadata": {},
   "outputs": [],
   "source": [
    "#plt.plot(lossi)"
   ]
  },
  {
   "cell_type": "code",
   "execution_count": 9,
   "metadata": {},
   "outputs": [
    {
     "name": "stdout",
     "output_type": "stream",
     "text": [
      "train 2.1276261806488037\n",
      "val 2.1701834201812744\n",
      "train 2.1276261806488037\n",
      "val 2.1701834201812744\n"
     ]
    }
   ],
   "source": [
    "@torch.no_grad() # this decorator disables gradient tracking\n",
    "def split_loss(split):\n",
    "  x,y = {\n",
    "    'train': (Xtr, Ytr),\n",
    "    'val': (Xdev, Ydev),\n",
    "    'test': (Xte, Yte),\n",
    "  }[split]\n",
    "  emb = C[x] # (N, block_size, n_embd)\n",
    "  embcat = emb.view(emb.shape[0], -1) # concat into (N, block_size * n_embd)\n",
    "  h =torch.tanh(embcat @ W1 + b1)\n",
    "  logits = h @ W2 + b2 # (N, vocab_size)\n",
    "  loss = F.cross_entropy(logits, y)\n",
    "  print(split, loss.item())\n",
    "  return loss.item()\n",
    "\n",
    "split_loss('train')\n",
    "split_loss('val')\n",
    "tracking_stats = ['Model 1',split_loss('train'),split_loss('val')]"
   ]
  },
  {
   "cell_type": "code",
   "execution_count": 10,
   "metadata": {},
   "outputs": [
    {
     "name": "stdout",
     "output_type": "stream",
     "text": [
      "mona.\n",
      "mayah.\n",
      "seel.\n",
      "nah.\n",
      "yam.\n",
      "rethrsonngramira.\n",
      "eredielin.\n",
      "shy.\n",
      "jen.\n",
      "eden.\n",
      "estanaraelyn.\n",
      "malka.\n",
      "cayshubergihamier.\n",
      "kendreelynn.\n",
      "nochorius.\n",
      "mace.\n",
      "ryyah.\n",
      "fael.\n",
      "yumaje.\n",
      "sanyah.\n"
     ]
    }
   ],
   "source": [
    "# sample from the model\n",
    "g = torch.Generator().manual_seed(2147483647 + 10)\n",
    "block_size = 3\n",
    "\n",
    "for _ in range(20):\n",
    "    \n",
    "    out = []\n",
    "    context = [0] * block_size # initialize with all ...\n",
    "    while True:\n",
    "      emb = C[torch.tensor([context])] # (1,block_size,d)\n",
    "      h = torch.tanh(emb.view(1, -1) @ W1 + b1)\n",
    "      logits = h @ W2 + b2\n",
    "      probs = F.softmax(logits, dim=1)\n",
    "      ix = torch.multinomial(probs, num_samples=1, generator=g).item()\n",
    "      context = context[1:] + [ix]\n",
    "      out.append(ix)\n",
    "      if ix == 0:\n",
    "        break\n",
    "    \n",
    "    print(''.join(itos[i] for i in out))"
   ]
  },
  {
   "cell_type": "markdown",
   "metadata": {},
   "source": [
    "### Multiple things are wrong with the modeL:\n",
    "##### a. First loglikelihood is very high: what initial loss would you expect? given a uniform distribution\n",
    "##### So at initialization we should plug in a uniform distribution, so every character is equally likely\n",
    "##### -> this means setting b2 to zero\n",
    "##### -> setting W2 close to zero: multiply by 0.01 or so: why not set it to zero?"
   ]
  },
  {
   "cell_type": "code",
   "execution_count": 11,
   "metadata": {},
   "outputs": [
    {
     "data": {
      "text/plain": [
       "tensor(3.2958)"
      ]
     },
     "execution_count": 11,
     "metadata": {},
     "output_type": "execute_result"
    }
   ],
   "source": [
    "# expected probability is 1/27\n",
    "-torch.tensor(1.0/27.0).log()"
   ]
  },
  {
   "cell_type": "code",
   "execution_count": 12,
   "metadata": {},
   "outputs": [
    {
     "name": "stdout",
     "output_type": "stream",
     "text": [
      "Very high loss: 6.003401279449463  given the probabilities: tensor([9.9660e-01, 1.6645e-05, 2.4703e-03, 9.0879e-04])\n"
     ]
    }
   ],
   "source": [
    "logits = torch.tensor([7.0,-4.0,1.0,0.0])\n",
    "probs = torch.softmax(logits, dim=0)\n",
    "loss = -probs[2].log()\n",
    "print(\"Very high loss:\", loss.item(), \" given the probabilities:\", probs)"
   ]
  },
  {
   "cell_type": "code",
   "execution_count": 13,
   "metadata": {},
   "outputs": [
    {
     "name": "stdout",
     "output_type": "stream",
     "text": [
      "First guess of the loss would be: 1.3862943649291992 given probs: tensor([0.2500, 0.2500, 0.2500, 0.2500])\n"
     ]
    }
   ],
   "source": [
    "logits = torch.tensor([0.0,0.0,0.0,0.0]) # should be set to equal in the initialization\n",
    "probs = torch.softmax(logits, dim=0)\n",
    "loss = -probs[2].log()\n",
    "print(\"First guess of the loss would be:\", loss.item(), \"given probs:\", probs)"
   ]
  },
  {
   "cell_type": "markdown",
   "metadata": {},
   "source": [
    "#### so here is the reviseted code: b2 = b2 * 0; W2 = W2 * 0.01"
   ]
  },
  {
   "cell_type": "code",
   "execution_count": 14,
   "metadata": {},
   "outputs": [
    {
     "name": "stdout",
     "output_type": "stream",
     "text": [
      "torch.Size([182580, 3]) torch.Size([182580])\n",
      "torch.Size([22767, 3]) torch.Size([22767])\n",
      "torch.Size([22799, 3]) torch.Size([22799])\n",
      "11897\n",
      "      0/ 200000: 3.3148\n",
      "  10000/ 200000: 2.6505\n",
      "  20000/ 200000: 2.4705\n",
      "  30000/ 200000: 2.0266\n",
      "  40000/ 200000: 2.1797\n",
      "  50000/ 200000: 2.4072\n",
      "  60000/ 200000: 2.2316\n",
      "  70000/ 200000: 2.0701\n",
      "  80000/ 200000: 2.0010\n",
      "  90000/ 200000: 2.0439\n",
      " 100000/ 200000: 2.4564\n",
      " 110000/ 200000: 2.2124\n",
      " 120000/ 200000: 2.1843\n",
      " 130000/ 200000: 2.2414\n",
      " 140000/ 200000: 2.1447\n",
      " 150000/ 200000: 2.2837\n",
      " 160000/ 200000: 2.0286\n",
      " 170000/ 200000: 2.0146\n",
      " 180000/ 200000: 2.2178\n",
      " 190000/ 200000: 2.0372\n"
     ]
    }
   ],
   "source": [
    "# build the dataset\n",
    "block_size = 3 # context length: how many characters do we take to predict the next one?\n",
    "\n",
    "def build_dataset(words):  \n",
    "  X, Y = [], []\n",
    "  \n",
    "  for w in words:\n",
    "    context = [0] * block_size\n",
    "    for ch in w + '.':\n",
    "      ix = stoi[ch]\n",
    "      X.append(context)\n",
    "      Y.append(ix)\n",
    "      context = context[1:] + [ix] # crop and append\n",
    "\n",
    "  X = torch.tensor(X)\n",
    "  Y = torch.tensor(Y)\n",
    "  print(X.shape, Y.shape)\n",
    "  return X, Y\n",
    "\n",
    "import random\n",
    "random.seed(42)\n",
    "random.shuffle(words)\n",
    "n1 = int(0.8*len(words))\n",
    "n2 = int(0.9*len(words))\n",
    "\n",
    "Xtr,  Ytr  = build_dataset(words[:n1])     # 80%\n",
    "Xdev, Ydev = build_dataset(words[n1:n2])   # 10%\n",
    "Xte,  Yte  = build_dataset(words[n2:])     # 10%\n",
    "\n",
    "\n",
    "# MLP revisited\n",
    "n_embd = 10 # the dimensionality of the character embedding vectors\n",
    "n_hidden = 200 # the number of neurons in the hidden layer of the MLP\n",
    "\n",
    "g = torch.Generator().manual_seed(2147483647) # for reproducibility\n",
    "C  = torch.randn((vocab_size, n_embd),            generator=g)\n",
    "W1 = torch.randn((n_embd * block_size, n_hidden), generator=g) # * (5/3)/((n_embd * block_size)**0.5) #* 0.2\n",
    "b1 = torch.randn(n_hidden,                        generator=g) # * 0.01\n",
    "W2 = torch.randn((n_hidden, vocab_size),          generator=g) * 0.01  # scale the weight close to zero (not exactly zero because: )\n",
    "b2 = torch.randn(vocab_size,                      generator=g) * 0  # for initialization the bias shoud be zero (or equal) -> assumption: uniform distribution of all the characters\n",
    "\n",
    "\n",
    "parameters = [C, W1, b1, W2, b2]\n",
    "print(sum(p.nelement() for p in parameters)) # number of parameters in total\n",
    "for p in parameters:\n",
    "  p.requires_grad = True\n",
    "  \n",
    "# same optimization as last time\n",
    "max_steps = 200000\n",
    "batch_size = 32\n",
    "lossi = []\n",
    "\n",
    "for i in range(max_steps):\n",
    "  \n",
    "  # minibatch construct\n",
    "  ix = torch.randint(0, Xtr.shape[0], (batch_size,), generator=g)\n",
    "  Xb, Yb = Xtr[ix], Ytr[ix] # batch X,Y\n",
    "  \n",
    "  # forward pass\n",
    "  emb = C[Xb] # embed the characters into vectors\n",
    "  embcat = emb.view(emb.shape[0], -1) # concatenate the vectors\n",
    "  hpreact = embcat @ W1 + b1\n",
    "  h = torch.tanh(hpreact) # hidden layer\n",
    "  logits = h @ W2 + b2 # output layer\n",
    "  loss = F.cross_entropy(logits, Yb) # loss function\n",
    "  \n",
    "  # backward pass\n",
    "  for p in parameters:\n",
    "    p.grad = None\n",
    "  loss.backward()\n",
    "  \n",
    "  # update\n",
    "  lr = 0.1 if i < 100000 else 0.01 # step learning rate decay\n",
    "  for p in parameters:\n",
    "    p.data += -lr * p.grad\n",
    "\n",
    "  # track stats\n",
    "  if i % 10000 == 0: # print every once in a while\n",
    "    print(f'{i:7d}/{max_steps:7d}: {loss.item():.4f}')\n",
    "  lossi.append(loss.log10().item())\n",
    "  "
   ]
  },
  {
   "cell_type": "code",
   "execution_count": 15,
   "metadata": {},
   "outputs": [
    {
     "name": "stdout",
     "output_type": "stream",
     "text": [
      "train 2.069324493408203\n",
      "val 2.133209228515625\n",
      "train 2.069324493408203\n",
      "val 2.133209228515625\n"
     ]
    },
    {
     "data": {
      "text/plain": [
       "(['Model 1', 2.1276261806488037, 2.1701834201812744],\n",
       " ['Model 2:  b2*0; W2=W2*0.01', 2.069324493408203, 2.133209228515625])"
      ]
     },
     "execution_count": 15,
     "metadata": {},
     "output_type": "execute_result"
    }
   ],
   "source": [
    "@torch.no_grad() # this decorator disables gradient tracking\n",
    "def split_loss(split):\n",
    "  x,y = {\n",
    "    'train': (Xtr, Ytr),\n",
    "    'val': (Xdev, Ydev),\n",
    "    'test': (Xte, Yte),\n",
    "  }[split]\n",
    "  emb = C[x] # (N, block_size, n_embd)\n",
    "  embcat = emb.view(emb.shape[0], -1) # concat into (N, block_size * n_embd)\n",
    "  h =torch.tanh(embcat @ W1 + b1)\n",
    "  logits = h @ W2 + b2 # (N, vocab_size)\n",
    "  loss = F.cross_entropy(logits, y)\n",
    "  print(split, loss.item())\n",
    "  return loss.item()\n",
    "\n",
    "split_loss('train')\n",
    "split_loss('val')\n",
    "tracking_stats = tracking_stats , ['Model 2:  b2*0; W2=W2*0.01',split_loss('train'),split_loss('val')]\n",
    "tracking_stats"
   ]
  },
  {
   "cell_type": "code",
   "execution_count": 16,
   "metadata": {},
   "outputs": [],
   "source": [
    "#plt.plot(lossi)"
   ]
  },
  {
   "cell_type": "markdown",
   "metadata": {},
   "source": [
    "### b. Solved loss with respect to logits, BUT Still a problem with initialization \n",
    "#### look at values of h (activations of hidden states) -> many values are 1 or -1"
   ]
  },
  {
   "cell_type": "code",
   "execution_count": 17,
   "metadata": {},
   "outputs": [],
   "source": [
    "# Preactivation\n",
    "#plt.hist(hpreact.view(-1).tolist(), bins=50)"
   ]
  },
  {
   "cell_type": "code",
   "execution_count": 18,
   "metadata": {},
   "outputs": [],
   "source": [
    "# Activation\n",
    "#plt.hist(h.view(-1).tolist(), bins=50)"
   ]
  },
  {
   "cell_type": "markdown",
   "metadata": {},
   "source": [
    "### This is problematic!\n",
    "\n",
    "#### depending on the function where you have flat areas (as in tanh), the neurons could by chance end up to be 1 and -1 (or 1 and 0). So these neurons never learn: permanent brain damage in the neural net"
   ]
  },
  {
   "cell_type": "code",
   "execution_count": 19,
   "metadata": {},
   "outputs": [],
   "source": [
    "# Create a distirbution with a larger variance (mean = zero)\n",
    "a = torch.empty(10000).normal_(mean=0,std=1.5)\n",
    "#plt.hist(a.view(-1).tolist(), bins=50)"
   ]
  },
  {
   "cell_type": "code",
   "execution_count": 20,
   "metadata": {},
   "outputs": [],
   "source": [
    "a2 = torch.tanh(a)\n",
    "#plt.hist(a2.view(-1).tolist(), bins=50)"
   ]
  },
  {
   "cell_type": "code",
   "execution_count": 21,
   "metadata": {},
   "outputs": [
    {
     "name": "stdout",
     "output_type": "stream",
     "text": [
      "torch.Size([182437, 3]) torch.Size([182437])\n",
      "torch.Size([22781, 3]) torch.Size([22781])\n",
      "torch.Size([22928, 3]) torch.Size([22928])\n",
      "11897\n",
      "      0/ 200000: 3.2959\n",
      "  10000/ 200000: 1.8335\n",
      "  20000/ 200000: 1.9758\n",
      "  30000/ 200000: 2.4127\n",
      "  40000/ 200000: 2.5336\n",
      "  50000/ 200000: 1.8456\n",
      "  60000/ 200000: 2.4327\n",
      "  70000/ 200000: 2.0982\n",
      "  80000/ 200000: 1.8181\n",
      "  90000/ 200000: 2.2853\n",
      " 100000/ 200000: 2.1659\n",
      " 110000/ 200000: 2.2114\n",
      " 120000/ 200000: 2.0398\n",
      " 130000/ 200000: 1.8429\n",
      " 140000/ 200000: 2.2416\n",
      " 150000/ 200000: 2.1392\n",
      " 160000/ 200000: 1.8348\n",
      " 170000/ 200000: 2.1022\n",
      " 180000/ 200000: 2.5763\n",
      " 190000/ 200000: 1.8410\n"
     ]
    },
    {
     "data": {
      "text/plain": [
       "(array([587., 110.,  46.,  55.,  37.,  31.,  38.,  33.,  26.,  36.,  26.,\n",
       "         32.,  24.,  29.,  41.,  45.,  37.,  55.,  73.,  83., 138., 228.,\n",
       "        296., 455., 615., 627., 423., 284., 207., 141., 139.,  64.,  73.,\n",
       "         31.,  26.,  36.,  34.,  22.,  28.,  38.,  39.,  19.,  35.,  34.,\n",
       "         37.,  51.,  54.,  59., 102., 621.]),\n",
       " array([-1.  , -0.96, -0.92, -0.88, -0.84, -0.8 , -0.76, -0.72, -0.68,\n",
       "        -0.64, -0.6 , -0.56, -0.52, -0.48, -0.44, -0.4 , -0.36, -0.32,\n",
       "        -0.28, -0.24, -0.2 , -0.16, -0.12, -0.08, -0.04,  0.  ,  0.04,\n",
       "         0.08,  0.12,  0.16,  0.2 ,  0.24,  0.28,  0.32,  0.36,  0.4 ,\n",
       "         0.44,  0.48,  0.52,  0.56,  0.6 ,  0.64,  0.68,  0.72,  0.76,\n",
       "         0.8 ,  0.84,  0.88,  0.92,  0.96,  1.  ]),\n",
       " <BarContainer object of 50 artists>)"
      ]
     },
     "execution_count": 21,
     "metadata": {},
     "output_type": "execute_result"
    },
    {
     "data": {
      "image/png": "[encoded data removed]",
      "text/plain": [
       "<Figure size 640x480 with 1 Axes>"
      ]
     },
     "metadata": {},
     "output_type": "display_data"
    }
   ],
   "source": [
    "# build the dataset\n",
    "block_size = 3 # context length: how many characters do we take to predict the next one?\n",
    "\n",
    "def build_dataset(words):  \n",
    "  X, Y = [], []\n",
    "  \n",
    "  for w in words:\n",
    "    context = [0] * block_size\n",
    "    for ch in w + '.':\n",
    "      ix = stoi[ch]\n",
    "      X.append(context)\n",
    "      Y.append(ix)\n",
    "      context = context[1:] + [ix] # crop and append\n",
    "\n",
    "  X = torch.tensor(X)\n",
    "  Y = torch.tensor(Y)\n",
    "  print(X.shape, Y.shape)\n",
    "  return X, Y\n",
    "\n",
    "import random\n",
    "random.seed(42)\n",
    "random.shuffle(words)\n",
    "n1 = int(0.8*len(words))\n",
    "n2 = int(0.9*len(words))\n",
    "\n",
    "Xtr,  Ytr  = build_dataset(words[:n1])     # 80%\n",
    "Xdev, Ydev = build_dataset(words[n1:n2])   # 10%\n",
    "Xte,  Yte  = build_dataset(words[n2:])     # 10%\n",
    "\n",
    "\n",
    "# MLP revisited\n",
    "n_embd = 10 # the dimensionality of the character embedding vectors\n",
    "n_hidden = 200 # the number of neurons in the hidden layer of the MLP\n",
    "\n",
    "g = torch.Generator().manual_seed(2147483647) # for reproducibility\n",
    "C  = torch.randn((vocab_size, n_embd),            generator=g)\n",
    "W1 = torch.randn((n_embd * block_size, n_hidden), generator=g) * 0.01\n",
    "b1 = torch.randn(n_hidden,                        generator=g) * 0.01\n",
    "W2 = torch.randn((n_hidden, vocab_size),          generator=g) * 0.01  # scale the weight close to zero (not exactly zero because: )\n",
    "b2 = torch.randn(vocab_size,                      generator=g) * 0  # for initialization the bias shoud be zero (or equal) -> assumption: uniform distribution of all the characters\n",
    "\n",
    "\n",
    "parameters = [C, W1, b1, W2, b2]\n",
    "print(sum(p.nelement() for p in parameters)) # number of parameters in total\n",
    "for p in parameters:\n",
    "  p.requires_grad = True\n",
    "  \n",
    "# same optimization as last time\n",
    "max_steps = 200000\n",
    "batch_size = 32\n",
    "lossi = []\n",
    "\n",
    "for i in range(max_steps):\n",
    "  \n",
    "  # minibatch construct\n",
    "  ix = torch.randint(0, Xtr.shape[0], (batch_size,), generator=g)\n",
    "  Xb, Yb = Xtr[ix], Ytr[ix] # batch X,Y\n",
    "  \n",
    "  # forward pass\n",
    "  emb = C[Xb] # embed the characters into vectors\n",
    "  embcat = emb.view(emb.shape[0], -1) # concatenate the vectors\n",
    "  hpreact = embcat @ W1 + b1\n",
    "  h = torch.tanh(hpreact) # hidden layer\n",
    "  logits = h @ W2 + b2 # output layer\n",
    "  loss = F.cross_entropy(logits, Yb) # loss function\n",
    "  \n",
    "  # backward pass\n",
    "  for p in parameters:\n",
    "    p.grad = None\n",
    "  loss.backward()\n",
    "  \n",
    "  # update\n",
    "  lr = 0.1 if i < 100000 else 0.01 # step learning rate decay\n",
    "  for p in parameters:\n",
    "    p.data += -lr * p.grad\n",
    "\n",
    "  # track stats\n",
    "  if i % 10000 == 0: # print every once in a while\n",
    "    print(f'{i:7d}/{max_steps:7d}: {loss.item():.4f}')\n",
    "  lossi.append(loss.log10().item())\n",
    "\n",
    "# Activation\n",
    "plt.hist(h.view(-1).tolist(), bins=50)"
   ]
  },
  {
   "cell_type": "code",
   "execution_count": 22,
   "metadata": {},
   "outputs": [
    {
     "name": "stdout",
     "output_type": "stream",
     "text": [
      "train 2.1016416549682617\n",
      "val 2.151332139968872\n",
      "train 2.1016416549682617\n",
      "val 2.151332139968872\n"
     ]
    },
    {
     "data": {
      "text/plain": [
       "((['Model 1', 2.1276261806488037, 2.1701834201812744],\n",
       "  ['Model 2:  b2*0; W2=W2*0.01', 2.069324493408203, 2.133209228515625]),\n",
       " ['Model 3:  W1=0.01; b2=0; W2=W2*0.01', None, None])"
      ]
     },
     "execution_count": 22,
     "metadata": {},
     "output_type": "execute_result"
    }
   ],
   "source": [
    "@torch.no_grad() # this decorator disables gradient tracking\n",
    "def split_loss(split):\n",
    "  x,y = {\n",
    "    'train': (Xtr, Ytr),\n",
    "    'val': (Xdev, Ydev),\n",
    "    'test': (Xte, Yte),\n",
    "  }[split]\n",
    "  emb = C[x] # (N, block_size, n_embd)\n",
    "  embcat = emb.view(emb.shape[0], -1) # concat into (N, block_size * n_embd)\n",
    "  h =torch.tanh(embcat @ W1 + b1)\n",
    "  logits = h @ W2 + b2 # (N, vocab_size)\n",
    "  loss = F.cross_entropy(logits, y)\n",
    "  print(split, loss.item())\n",
    "\n",
    "split_loss('train')\n",
    "split_loss('val')\n",
    "\n",
    "tracking_stats = tracking_stats , ['Model 3:  W1=0.01; b2=0; W2=W2*0.01',split_loss('train'),split_loss('val')]\n",
    "tracking_stats"
   ]
  },
  {
   "cell_type": "markdown",
   "metadata": {},
   "source": [
    "### This Problem gets worse, when you have more layers\n",
    "#### What is the value you should multiply W with to preserve a standard deviation of 1 for hpreact = embcat @ W1 + b1"
   ]
  },
  {
   "cell_type": "code",
   "execution_count": 23,
   "metadata": {},
   "outputs": [
    {
     "name": "stdout",
     "output_type": "stream",
     "text": [
      "Mean x: -0.006351, Std x: 0.993653\n",
      "Mean w: -0.008941, Std w: 0.990991\n",
      "Mean y: 0.004615, Std y: 3.111047\n"
     ]
    }
   ],
   "source": [
    "x = torch.randn(1000, 10)\n",
    "w = torch.randn(10, 200)\n",
    "y = x @ w\n",
    "print(f'Mean x: {x.mean():.6f}, Std x: {x.std():.6f}')\n",
    "print(f'Mean w: {w.mean():.6f}, Std w: {w.std():.6f}')\n",
    "print(f'Mean y: {y.mean():.6f}, Std y: {y.std():.6f}')"
   ]
  },
  {
   "cell_type": "markdown",
   "metadata": {},
   "source": [
    "#### Answer: * 1 / (10**0.5)\n",
    "#### We should also add a gain: multiply by (5/3) divide by fan_mode. no clue why\n",
    "#### So: * (5/3)/((n_embd * block_size)**0.5) #* 0.2"
   ]
  },
  {
   "cell_type": "markdown",
   "metadata": {},
   "source": []
  },
  {
   "cell_type": "code",
   "execution_count": 24,
   "metadata": {},
   "outputs": [
    {
     "name": "stdout",
     "output_type": "stream",
     "text": [
      "Mean x: 0.002125, Std x: 1.001333\n",
      "Mean w: 0.019494, Std w: 0.313731\n",
      "Mean y: 0.000415, Std y: 0.994693\n"
     ]
    }
   ],
   "source": [
    "x = torch.randn(1000, 10)\n",
    "w = torch.randn(10, 200) / 10**0.5\n",
    "y = x @ w\n",
    "print(f'Mean x: {x.mean():.6f}, Std x: {x.std():.6f}')\n",
    "print(f'Mean w: {w.mean():.6f}, Std w: {w.std():.6f}')\n",
    "print(f'Mean y: {y.mean():.6f}, Std y: {y.std():.6f}')"
   ]
  },
  {
   "cell_type": "code",
   "execution_count": 25,
   "metadata": {},
   "outputs": [
    {
     "name": "stdout",
     "output_type": "stream",
     "text": [
      "Mean x: -0.002520, Std x: 0.999163\n",
      "Mean w: -0.005806, Std w: 0.302183\n",
      "Mean y: 0.003868, Std y: 0.952729\n"
     ]
    }
   ],
   "source": [
    "x = torch.randn(1000, 10)\n",
    "w = torch.randn(10, 200) * (5/3) / 30**0.5\n",
    "y = x @ w\n",
    "print(f'Mean x: {x.mean():.6f}, Std x: {x.std():.6f}')\n",
    "print(f'Mean w: {w.mean():.6f}, Std w: {w.std():.6f}')\n",
    "print(f'Mean y: {y.mean():.6f}, Std y: {y.std():.6f}')"
   ]
  },
  {
   "cell_type": "code",
   "execution_count": 26,
   "metadata": {},
   "outputs": [
    {
     "name": "stdout",
     "output_type": "stream",
     "text": [
      "torch.Size([182441, 3]) torch.Size([182441])\n",
      "torch.Size([22902, 3]) torch.Size([22902])\n",
      "torch.Size([22803, 3]) torch.Size([22803])\n",
      "11897\n",
      "      0/ 200000: 3.2919\n",
      "  10000/ 200000: 2.3768\n",
      "  20000/ 200000: 2.2040\n",
      "  30000/ 200000: 2.1786\n",
      "  40000/ 200000: 2.0913\n",
      "  50000/ 200000: 2.0421\n",
      "  60000/ 200000: 1.9533\n",
      "  70000/ 200000: 2.2160\n",
      "  80000/ 200000: 1.9515\n",
      "  90000/ 200000: 2.0229\n",
      " 100000/ 200000: 1.8909\n",
      " 110000/ 200000: 1.8692\n",
      " 120000/ 200000: 2.0451\n",
      " 130000/ 200000: 2.0751\n",
      " 140000/ 200000: 1.7027\n",
      " 150000/ 200000: 2.0493\n",
      " 160000/ 200000: 1.6198\n",
      " 170000/ 200000: 1.7937\n",
      " 180000/ 200000: 2.1341\n",
      " 190000/ 200000: 1.7599\n"
     ]
    },
    {
     "data": {
      "text/plain": [
       "(array([1112.,  188.,  152.,  118.,  115.,   94.,   81.,   65.,   63.,\n",
       "          51.,   45.,   50.,   65.,   54.,   69.,   59.,   64.,   62.,\n",
       "          81.,  100.,   83.,   78.,   57.,  123.,  111.,   67.,  112.,\n",
       "          82.,   64.,   74.,   86.,   71.,   64.,   54.,   49.,   48.,\n",
       "          49.,   55.,   79.,   45.,   68.,   80.,   80.,   97.,   83.,\n",
       "         106.,  131.,  170.,  255., 1191.]),\n",
       " array([-9.99999881e-01, -9.59999884e-01, -9.19999888e-01, -8.79999892e-01,\n",
       "        -8.39999895e-01, -7.99999899e-01, -7.59999902e-01, -7.19999906e-01,\n",
       "        -6.79999909e-01, -6.39999913e-01, -5.99999917e-01, -5.59999920e-01,\n",
       "        -5.19999924e-01, -4.79999927e-01, -4.39999931e-01, -3.99999934e-01,\n",
       "        -3.59999938e-01, -3.19999942e-01, -2.79999945e-01, -2.39999949e-01,\n",
       "        -1.99999952e-01, -1.59999956e-01, -1.19999959e-01, -7.99999630e-02,\n",
       "        -3.99999666e-02,  2.98023223e-08,  4.00000262e-02,  8.00000226e-02,\n",
       "         1.20000019e-01,  1.60000015e-01,  2.00000012e-01,  2.40000008e-01,\n",
       "         2.80000005e-01,  3.20000001e-01,  3.59999998e-01,  3.99999994e-01,\n",
       "         4.39999990e-01,  4.79999987e-01,  5.19999983e-01,  5.59999980e-01,\n",
       "         5.99999976e-01,  6.39999973e-01,  6.79999969e-01,  7.19999965e-01,\n",
       "         7.59999962e-01,  7.99999958e-01,  8.39999955e-01,  8.79999951e-01,\n",
       "         9.19999948e-01,  9.59999944e-01,  9.99999940e-01]),\n",
       " <BarContainer object of 50 artists>)"
      ]
     },
     "execution_count": 26,
     "metadata": {},
     "output_type": "execute_result"
    },
    {
     "data": {
      "image/png": "[encoded data removed]",
      "text/plain": [
       "<Figure size 640x480 with 1 Axes>"
      ]
     },
     "metadata": {},
     "output_type": "display_data"
    }
   ],
   "source": [
    "# build the dataset\n",
    "block_size = 3 # context length: how many characters do we take to predict the next one?\n",
    "\n",
    "def build_dataset(words):  \n",
    "  X, Y = [], []\n",
    "  \n",
    "  for w in words:\n",
    "    context = [0] * block_size\n",
    "    for ch in w + '.':\n",
    "      ix = stoi[ch]\n",
    "      X.append(context)\n",
    "      Y.append(ix)\n",
    "      context = context[1:] + [ix] # crop and append\n",
    "\n",
    "  X = torch.tensor(X)\n",
    "  Y = torch.tensor(Y)\n",
    "  print(X.shape, Y.shape)\n",
    "  return X, Y\n",
    "\n",
    "import random\n",
    "random.seed(42)\n",
    "random.shuffle(words)\n",
    "n1 = int(0.8*len(words))\n",
    "n2 = int(0.9*len(words))\n",
    "\n",
    "Xtr,  Ytr  = build_dataset(words[:n1])     # 80%\n",
    "Xdev, Ydev = build_dataset(words[n1:n2])   # 10%\n",
    "Xte,  Yte  = build_dataset(words[n2:])     # 10%\n",
    "\n",
    "\n",
    "# MLP revisited\n",
    "n_embd = 10 # the dimensionality of the character embedding vectors\n",
    "n_hidden = 200 # the number of neurons in the hidden layer of the MLP\n",
    "\n",
    "g = torch.Generator().manual_seed(2147483647) # for reproducibility\n",
    "C  = torch.randn((vocab_size, n_embd),            generator=g)\n",
    "W1 = torch.randn((n_embd * block_size, n_hidden), generator=g) * (5/3)/((n_embd * block_size)**0.5) #* 0.2\n",
    "b1 = torch.randn(n_hidden,                        generator=g) * 0.01\n",
    "W2 = torch.randn((n_hidden, vocab_size),          generator=g) * 0.01  # scale the weight close to zero (not exactly zero because: )\n",
    "b2 = torch.randn(vocab_size,                      generator=g) * 0  # for initialization the bias shoud be zero (or equal) -> assumption: uniform distribution of all the characters\n",
    "\n",
    "\n",
    "parameters = [C, W1, b1, W2, b2]\n",
    "print(sum(p.nelement() for p in parameters)) # number of parameters in total\n",
    "for p in parameters:\n",
    "  p.requires_grad = True\n",
    "  \n",
    "# same optimization as last time\n",
    "max_steps = 200000\n",
    "batch_size = 32\n",
    "lossi = []\n",
    "\n",
    "for i in range(max_steps):\n",
    "  \n",
    "  # minibatch construct\n",
    "  ix = torch.randint(0, Xtr.shape[0], (batch_size,), generator=g)\n",
    "  Xb, Yb = Xtr[ix], Ytr[ix] # batch X,Y\n",
    "  \n",
    "  # forward pass\n",
    "  emb = C[Xb] # embed the characters into vectors\n",
    "  embcat = emb.view(emb.shape[0], -1) # concatenate the vectors\n",
    "  hpreact = embcat @ W1 + b1\n",
    "  h = torch.tanh(hpreact) # hidden layer\n",
    "  logits = h @ W2 + b2 # output layer\n",
    "  loss = F.cross_entropy(logits, Yb) # loss function\n",
    "  \n",
    "  # backward pass\n",
    "  for p in parameters:\n",
    "    p.grad = None\n",
    "  loss.backward()\n",
    "  \n",
    "  # update\n",
    "  lr = 0.1 if i < 100000 else 0.01 # step learning rate decay\n",
    "  for p in parameters:\n",
    "    p.data += -lr * p.grad\n",
    "\n",
    "  # track stats\n",
    "  if i % 10000 == 0: # print every once in a while\n",
    "    print(f'{i:7d}/{max_steps:7d}: {loss.item():.4f}')\n",
    "  lossi.append(loss.log10().item())\n",
    "\n",
    "# Activation: still looks bad though....\n",
    "plt.hist(h.view(-1).tolist(), bins=50)"
   ]
  },
  {
   "cell_type": "code",
   "execution_count": 27,
   "metadata": {},
   "outputs": [
    {
     "name": "stdout",
     "output_type": "stream",
     "text": [
      "train 2.036036491394043\n",
      "val 2.109381675720215\n",
      "train 2.036036491394043\n",
      "val 2.109381675720215\n"
     ]
    },
    {
     "data": {
      "text/plain": [
       "(((['Model 1', 2.1276261806488037, 2.1701834201812744],\n",
       "   ['Model 2:  b2*0; W2=W2*0.01', 2.069324493408203, 2.133209228515625]),\n",
       "  ['Model 3:  W1=0.01; b2=0; W2=W2*0.01', None, None]),\n",
       " ['Model 4:  W1=(5/3)/((n_embd * block_size)**0.5); b2=0; W2=W2*0.01',\n",
       "  None,\n",
       "  None])"
      ]
     },
     "execution_count": 27,
     "metadata": {},
     "output_type": "execute_result"
    }
   ],
   "source": [
    "@torch.no_grad() # this decorator disables gradient tracking\n",
    "def split_loss(split):\n",
    "  x,y = {\n",
    "    'train': (Xtr, Ytr),\n",
    "    'val': (Xdev, Ydev),\n",
    "    'test': (Xte, Yte),\n",
    "  }[split]\n",
    "  emb = C[x] # (N, block_size, n_embd)\n",
    "  embcat = emb.view(emb.shape[0], -1) # concat into (N, block_size * n_embd)\n",
    "  h =torch.tanh(embcat @ W1 + b1)\n",
    "  logits = h @ W2 + b2 # (N, vocab_size)\n",
    "  loss = F.cross_entropy(logits, y)\n",
    "  print(split, loss.item())\n",
    "\n",
    "split_loss('train')\n",
    "split_loss('val')\n",
    "\n",
    "\n",
    "tracking_stats = tracking_stats , ['Model 4:  W1=(5/3)/((n_embd * block_size)**0.5); b2=0; W2=W2*0.01',split_loss('train'),split_loss('val')]\n",
    "tracking_stats"
   ]
  },
  {
   "cell_type": "markdown",
   "metadata": {},
   "source": [
    "### Batch Normalization\n",
    "#### We want the preactivation function not procuding values that are very small (tanh produces -1) neither way too large (tanh produces ones)\n",
    "#### We want them to be roughly Gaussian: subtract mean divide by standard deviation\n",
    "#### Addtionally to batch normalization: we want the network not to be forced to be Gaussian. So we want it to be able to shift and deviate from that distribution"
   ]
  },
  {
   "cell_type": "code",
   "execution_count": 28,
   "metadata": {},
   "outputs": [
    {
     "name": "stdout",
     "output_type": "stream",
     "text": [
      "torch.Size([182424, 3]) torch.Size([182424])\n",
      "torch.Size([22836, 3]) torch.Size([22836])\n",
      "torch.Size([22886, 3]) torch.Size([22886])\n",
      "12297\n",
      "      0/ 200000: 3.2926\n",
      "  10000/ 200000: 2.3681\n",
      "  20000/ 200000: 1.7444\n",
      "  30000/ 200000: 2.1972\n",
      "  40000/ 200000: 2.0636\n",
      "  50000/ 200000: 2.0787\n",
      "  60000/ 200000: 1.9219\n",
      "  70000/ 200000: 2.1091\n",
      "  80000/ 200000: 2.1248\n",
      "  90000/ 200000: 2.0234\n",
      " 100000/ 200000: 2.0432\n",
      " 110000/ 200000: 1.8459\n",
      " 120000/ 200000: 2.0609\n",
      " 130000/ 200000: 2.2648\n",
      " 140000/ 200000: 1.8508\n",
      " 150000/ 200000: 1.6568\n",
      " 160000/ 200000: 1.8573\n",
      " 170000/ 200000: 2.2071\n",
      " 180000/ 200000: 1.7515\n",
      " 190000/ 200000: 1.8627\n"
     ]
    }
   ],
   "source": [
    "# build the dataset\n",
    "block_size = 3 # context length: how many characters do we take to predict the next one?\n",
    "\n",
    "def build_dataset(words):  \n",
    "  X, Y = [], []\n",
    "  \n",
    "  for w in words:\n",
    "    context = [0] * block_size\n",
    "    for ch in w + '.':\n",
    "      ix = stoi[ch]\n",
    "      X.append(context)\n",
    "      Y.append(ix)\n",
    "      context = context[1:] + [ix] # crop and append\n",
    "\n",
    "  X = torch.tensor(X)\n",
    "  Y = torch.tensor(Y)\n",
    "  print(X.shape, Y.shape)\n",
    "  return X, Y\n",
    "\n",
    "import random\n",
    "random.seed(42)\n",
    "random.shuffle(words)\n",
    "n1 = int(0.8*len(words))\n",
    "n2 = int(0.9*len(words))\n",
    "\n",
    "Xtr,  Ytr  = build_dataset(words[:n1])     # 80%\n",
    "Xdev, Ydev = build_dataset(words[n1:n2])   # 10%\n",
    "Xte,  Yte  = build_dataset(words[n2:])     # 10%\n",
    "\n",
    "\n",
    "# MLP revisited\n",
    "n_embd = 10 # the dimensionality of the character embedding vectors\n",
    "n_hidden = 200 # the number of neurons in the hidden layer of the MLP\n",
    "\n",
    "g = torch.Generator().manual_seed(2147483647) # for reproducibility\n",
    "C  = torch.randn((vocab_size, n_embd),            generator=g)\n",
    "W1 = torch.randn((n_embd * block_size, n_hidden), generator=g) * (5/3)/((n_embd * block_size)**0.5) #* 0.2\n",
    "b1 = torch.randn(n_hidden,                        generator=g) * 0.01\n",
    "W2 = torch.randn((n_hidden, vocab_size),          generator=g) * 0.01  # scale the weight close to zero (not exactly zero because: )\n",
    "b2 = torch.randn(vocab_size,                      generator=g) * 0  # for initialization the bias shoud be zero (or equal) -> assumption: uniform distribution of all the characters\n",
    "\n",
    "# Addtionally to batch normalization: we want the network not to be forced to be Gaussian\n",
    "bngain = torch.ones((1, n_hidden))\n",
    "bnbias = torch.zeros((1, n_hidden))\n",
    "\n",
    "\n",
    "parameters = [C, W1, b1, W2, b2, bngain, bngain]\n",
    "print(sum(p.nelement() for p in parameters)) # number of parameters in total\n",
    "for p in parameters:\n",
    "  p.requires_grad = True\n",
    "  \n",
    "# same optimization as last time\n",
    "max_steps = 200000\n",
    "batch_size = 32\n",
    "lossi = []\n",
    "\n",
    "for i in range(max_steps):\n",
    "  \n",
    "  # minibatch construct\n",
    "  ix = torch.randint(0, Xtr.shape[0], (batch_size,), generator=g)\n",
    "  Xb, Yb = Xtr[ix], Ytr[ix] # batch X,Y\n",
    "  \n",
    "  # forward pass\n",
    "  emb = C[Xb] # embed the characters into vectors\n",
    "  embcat = emb.view(emb.shape[0], -1) # concatenate the vectors\n",
    "  hpreact = embcat @ W1 + b1\n",
    " \n",
    " \n",
    "  # Batch Normalization NEW\n",
    "  hpreact = bngain * (hpreact-hpreact.mean(0, keepdim= True) / hpreact.std(0, keepdim= True) ) - bnbias\n",
    " \n",
    " \n",
    " \n",
    "  h = torch.tanh(hpreact) # hidden layer\n",
    "  logits = h @ W2 + b2 # output layer\n",
    "  loss = F.cross_entropy(logits, Yb) # loss function\n",
    "  \n",
    "  # backward pass\n",
    "  for p in parameters:\n",
    "    p.grad = None\n",
    "  loss.backward()\n",
    "  \n",
    "  # update\n",
    "  lr = 0.1 if i < 100000 else 0.01 # step learning rate decay\n",
    "  for p in parameters:\n",
    "    p.data += -lr * p.grad\n",
    "\n",
    "  # track stats\n",
    "  if i % 10000 == 0: # print every once in a while\n",
    "    print(f'{i:7d}/{max_steps:7d}: {loss.item():.4f}')\n",
    "  lossi.append(loss.log10().item())\n"
   ]
  },
  {
   "cell_type": "code",
   "execution_count": 29,
   "metadata": {},
   "outputs": [
    {
     "name": "stdout",
     "output_type": "stream",
     "text": [
      "0\n",
      "1\n",
      "2\n",
      "3\n",
      "4\n",
      "5\n",
      "6\n",
      "7\n",
      "8\n",
      "9\n"
     ]
    }
   ],
   "source": [
    "for i in range(10):\n",
    "    print(i)"
   ]
  },
  {
   "cell_type": "code",
   "execution_count": 30,
   "metadata": {},
   "outputs": [
    {
     "name": "stdout",
     "output_type": "stream",
     "text": [
      "train 2.0489697456359863\n",
      "val 2.1184422969818115\n",
      "train 2.0489697456359863\n",
      "val 2.1184422969818115\n"
     ]
    },
    {
     "data": {
      "text/plain": [
       "((((['Model 1', 2.1276261806488037, 2.1701834201812744],\n",
       "    ['Model 2:  b2*0; W2=W2*0.01', 2.069324493408203, 2.133209228515625]),\n",
       "   ['Model 3:  W1=0.01; b2=0; W2=W2*0.01', None, None]),\n",
       "  ['Model 4:  W1=(5/3)/((n_embd * block_size)**0.5); b2=0; W2=W2*0.01',\n",
       "   None,\n",
       "   None]),\n",
       " ['Model 5:  Batch Normalization', None, None])"
      ]
     },
     "execution_count": 30,
     "metadata": {},
     "output_type": "execute_result"
    }
   ],
   "source": [
    "@torch.no_grad() # this decorator disables gradient tracking\n",
    "def split_loss(split):\n",
    "  x,y = {\n",
    "    'train': (Xtr, Ytr),\n",
    "    'val': (Xdev, Ydev),\n",
    "    'test': (Xte, Yte),\n",
    "  }[split]\n",
    "  emb = C[x] # (N, block_size, n_embd)\n",
    "  embcat = emb.view(emb.shape[0], -1) # concat into (N, block_size * n_embd)\n",
    "  hpreact = embcat @ W1 + b1\n",
    "  hpreact = bngain * (hpreact-hpreact.mean(0, keepdim= True) / hpreact.std(0, keepdim= True) ) - bnbias\n",
    "  h = torch.tanh(hpreact) # hidden layer\n",
    "  logits = h @ W2 + b2 # (N, vocab_size)\n",
    "  loss = F.cross_entropy(logits, y)\n",
    "  print(split, loss.item())\n",
    "\n",
    "split_loss('train')\n",
    "split_loss('val')\n",
    "\n",
    "tracking_stats = tracking_stats , ['Model 5:  Batch Normalization',split_loss('train'),split_loss('val')]\n",
    "tracking_stats"
   ]
  },
  {
   "cell_type": "code",
   "execution_count": 31,
   "metadata": {},
   "outputs": [
    {
     "name": "stdout",
     "output_type": "stream",
     "text": [
      "mondalynn.\n",
      "hegermed.\n",
      "rhal.\n",
      "remman.\n",
      "brerleg.\n",
      "adelynne.\n",
      "hillyn.\n",
      "jennedecklandraxleigh.\n",
      "mcky.\n",
      "adi.\n",
      "shdynr.\n",
      "shimier.\n",
      "kindrenevionnicocen.\n",
      "brence.\n",
      "rhylene.\n",
      "eli.\n",
      "kayshawn.\n",
      "lan.\n",
      "hal.\n",
      "sadyansh.\n"
     ]
    }
   ],
   "source": [
    "# sample from the model\n",
    "g = torch.Generator().manual_seed(2147483647 + 10)\n",
    "block_size = 3\n",
    "\n",
    "for _ in range(20):\n",
    "    \n",
    "    out = []\n",
    "    context = [0] * block_size # initialize with all ...\n",
    "    while True:\n",
    "      emb = C[torch.tensor([context])] # (1,block_size,d)\n",
    "      h = torch.tanh(emb.view(1, -1) @ W1 + b1)\n",
    "      logits = h @ W2 + b2\n",
    "      probs = F.softmax(logits, dim=1)\n",
    "      ix = torch.multinomial(probs, num_samples=1, generator=g).item()\n",
    "      context = context[1:] + [ix]\n",
    "      out.append(ix)\n",
    "      if ix == 0:\n",
    "        break\n",
    "    \n",
    "    print(''.join(itos[i] for i in out))"
   ]
  },
  {
   "cell_type": "markdown",
   "metadata": {},
   "source": [
    "### what we have achieved so far:\n",
    "\n",
    "Negative Loglikelihood\n",
    "| Step | Train | Test |\n",
    "| :- | -: | :-: |\n",
    "| Standard | 2.1276 | 2.1701 |\n",
    "| W2 * 0.01 and b2 * 0 | 2.2556 | 2.3397 |\n",
    "| + W1 * 0.01 and b1 * 0.01 | 2.1016 | 2.1513 |\n",
    "| equally distributed values and b1 * 0.01 | 2.1051 | 2.1384 |\n",
    "| Improving Gradient | 2.0377 | 2.1032 |\n",
    "| Batch Normalization | 2.0411 | 2.1137 |"
   ]
  },
  {
   "cell_type": "markdown",
   "metadata": {},
   "source": [
    "### Batch normalization has a regulaizing effect"
   ]
  },
  {
   "cell_type": "markdown",
   "metadata": {},
   "source": [
    "#### achieving gaussian distribution is easy in a neural network with just one layer, but gets more complicated the more layers there are involved"
   ]
  },
  {
   "cell_type": "code",
   "execution_count": 32,
   "metadata": {},
   "outputs": [
    {
     "name": "stdout",
     "output_type": "stream",
     "text": [
      "torch.Size([182512, 3]) torch.Size([182512])\n",
      "torch.Size([22860, 3]) torch.Size([22860])\n",
      "torch.Size([22774, 3]) torch.Size([22774])\n",
      "12097\n",
      "      0/ 200000: 3.2835\n",
      "  10000/ 200000: 2.4888\n",
      "  20000/ 200000: 2.5556\n",
      "  30000/ 200000: 2.3234\n",
      "  40000/ 200000: 2.1004\n",
      "  50000/ 200000: 2.4306\n",
      "  60000/ 200000: 2.1232\n",
      "  70000/ 200000: 1.7836\n",
      "  80000/ 200000: 2.1853\n",
      "  90000/ 200000: 2.1955\n",
      " 100000/ 200000: 1.7435\n",
      " 110000/ 200000: 1.9625\n",
      " 120000/ 200000: 2.2277\n",
      " 130000/ 200000: 2.0731\n",
      " 140000/ 200000: 2.0738\n",
      " 150000/ 200000: 1.9988\n",
      " 160000/ 200000: 2.1839\n",
      " 170000/ 200000: 2.4861\n",
      " 180000/ 200000: 2.0557\n",
      " 190000/ 200000: 2.0239\n"
     ]
    }
   ],
   "source": [
    "# build the dataset\n",
    "block_size = 3 # context length: how many characters do we take to predict the next one?\n",
    "\n",
    "def build_dataset(words):  \n",
    "  X, Y = [], []\n",
    "  \n",
    "  for w in words:\n",
    "    context = [0] * block_size\n",
    "    for ch in w + '.':\n",
    "      ix = stoi[ch]\n",
    "      X.append(context)\n",
    "      Y.append(ix)\n",
    "      context = context[1:] + [ix] # crop and append\n",
    "\n",
    "  X = torch.tensor(X)\n",
    "  Y = torch.tensor(Y)\n",
    "  print(X.shape, Y.shape)\n",
    "  return X, Y\n",
    "\n",
    "import random\n",
    "random.seed(42)\n",
    "random.shuffle(words)\n",
    "n1 = int(0.8*len(words))\n",
    "n2 = int(0.9*len(words))\n",
    "\n",
    "Xtr,  Ytr  = build_dataset(words[:n1])     # 80%\n",
    "Xdev, Ydev = build_dataset(words[n1:n2])   # 10%\n",
    "Xte,  Yte  = build_dataset(words[n2:])     # 10%\n",
    "\n",
    "\n",
    "# MLP revisited\n",
    "n_embd = 10 # the dimensionality of the character embedding vectors\n",
    "n_hidden = 200 # the number of neurons in the hidden layer of the MLP\n",
    "\n",
    "g = torch.Generator().manual_seed(2147483647) # for reproducibility\n",
    "C  = torch.randn((vocab_size, n_embd),            generator=g)\n",
    "W1 = torch.randn((n_embd * block_size, n_hidden), generator=g) * (5/3)/((n_embd * block_size)**0.5) #* 0.2\n",
    "# b1 = torch.randn(n_hidden,                        generator=g) * 0.01\n",
    "W2 = torch.randn((n_hidden, vocab_size),          generator=g) * 0.01  # scale the weight close to zero (not exactly zero because: )\n",
    "b2 = torch.randn(vocab_size,                      generator=g) * 0  # for initialization the bias shoud be zero (or equal) -> assumption: uniform distribution of all the characters\n",
    "\n",
    "# Addtionally to batch normalization: we want the network not to be forced to be Gaussian\n",
    "bngain = torch.ones((1, n_hidden))\n",
    "bnbias = torch.zeros((1, n_hidden))\n",
    "\n",
    "bnmean_running = torch.zeros((1, n_hidden))\n",
    "bnstd_running =  torch.ones((1, n_hidden))\n",
    "\n",
    "bnmean_running2 = torch.zeros((1, n_hidden))\n",
    "bnstd_running2 =  torch.ones((1, n_hidden))\n",
    "\n",
    "parameters = [C, W1, W2, b2, bngain, bnbias]\n",
    "print(sum(p.nelement() for p in parameters)) # number of parameters in total\n",
    "for p in parameters:\n",
    "  p.requires_grad = True\n",
    "  \n",
    "# same optimization as last time\n",
    "max_steps = 200000\n",
    "batch_size = 32\n",
    "lossi = []\n",
    "\n",
    "for i in range(max_steps):\n",
    "  \n",
    "  # minibatch construct\n",
    "  ix = torch.randint(0, Xtr.shape[0], (batch_size,), generator=g)\n",
    "  Xb, Yb = Xtr[ix], Ytr[ix] # batch X,Y\n",
    "  \n",
    "  # forward pass\n",
    "  emb = C[Xb] # embed the characters into vectors\n",
    "  embcat = emb.view(emb.shape[0], -1) # concatenate the vectors\n",
    "  hpreact = embcat @ W1 # + b1 # because b1 gets canceled out during batch normalization!\n",
    " \n",
    " \n",
    "  # Batch Normalization NEW\n",
    "  bnmeani = hpreact.mean(0, keepdim= True)\n",
    "  bnstdi = hpreact.std(0, keepdim= True) + 0.001  # add a small error so if the variance is zero, we are not running into troubles\n",
    "  \n",
    "  hpreact = bngain * (hpreact-bnmeani) / bnstdi - bnbias \n",
    " \n",
    "  with torch.no_grad():\n",
    "    bnmean_running2 = (bnmean_running*i + bnmeani) / (i+1)\n",
    "    bnstd_running2 = (bnstd_running*i + bnstdi) / (i+1)\n",
    "    bnmean_running = 0.999 * bnmean_running2 + 0.001 * bnmeani  # running mean: because we are trying to estimate the mean of the whole dataset. With a small batch size higher values might be to sensitive for outliers. starting at mean zero we are estimating what the next batch would change\n",
    "    bnstd_running = 0.999 * bnstd_running2 + 0.001 * bnstdi\n",
    "   \n",
    "  h = torch.tanh(hpreact) # hidden layer\n",
    "  logits = h @ W2 + b2 # output layer\n",
    "  loss = F.cross_entropy(logits, Yb) # loss function\n",
    "  \n",
    "  # backward pass\n",
    "  for p in parameters:\n",
    "    p.grad = None\n",
    "  loss.backward()\n",
    "  \n",
    "  # update\n",
    "  lr = 0.1 if i < 100000 else 0.01 # step learning rate decay\n",
    "  for p in parameters:\n",
    "    p.data += -lr * p.grad\n",
    "\n",
    "  # track stats\n",
    "  if i % 10000 == 0: # print every once in a while\n",
    "    print(f'{i:7d}/{max_steps:7d}: {loss.item():.4f}')\n",
    "  lossi.append(loss.log10().item())\n"
   ]
  },
  {
   "cell_type": "code",
   "execution_count": 33,
   "metadata": {},
   "outputs": [
    {
     "name": "stdout",
     "output_type": "stream",
     "text": [
      "train 2.3282535076141357\n",
      "val 2.377671718597412\n",
      "train 2.3282535076141357\n",
      "val 2.377671718597412\n"
     ]
    },
    {
     "data": {
      "text/plain": [
       "(((((['Model 1', 2.1276261806488037, 2.1701834201812744],\n",
       "     ['Model 2:  b2*0; W2=W2*0.01', 2.069324493408203, 2.133209228515625]),\n",
       "    ['Model 3:  W1=0.01; b2=0; W2=W2*0.01', None, None]),\n",
       "   ['Model 4:  W1=(5/3)/((n_embd * block_size)**0.5); b2=0; W2=W2*0.01',\n",
       "    None,\n",
       "    None]),\n",
       "  ['Model 5:  Batch Normalization', None, None]),\n",
       " ['Model 5:  Batch Normalization', None, None])"
      ]
     },
     "execution_count": 33,
     "metadata": {},
     "output_type": "execute_result"
    }
   ],
   "source": [
    "@torch.no_grad() # this decorator disables gradient tracking\n",
    "def split_loss(split):\n",
    "  x,y = {\n",
    "    'train': (Xtr, Ytr),\n",
    "    'val': (Xdev, Ydev),\n",
    "    'test': (Xte, Yte),\n",
    "  }[split]\n",
    "  emb = C[x] # (N, block_size, n_embd)\n",
    "  embcat = emb.view(emb.shape[0], -1) # concat into (N, block_size * n_embd)\n",
    "  hpreact = embcat @ W1 + b1\n",
    "  hpreact = bngain * (hpreact-hpreact.mean(0, keepdim= True) / hpreact.std(0, keepdim= True) ) - bnbias\n",
    "  h = torch.tanh(hpreact) # hidden layer\n",
    "  logits = h @ W2 + b2 # (N, vocab_size)\n",
    "  loss = F.cross_entropy(logits, y)\n",
    "  print(split, loss.item())\n",
    "\n",
    "split_loss('train')\n",
    "split_loss('val')\n",
    "\n",
    "tracking_stats = tracking_stats , ['Model 5:  Batch Normalization',split_loss('train'),split_loss('val')]\n",
    "tracking_stats"
   ]
  },
  {
   "cell_type": "code",
   "execution_count": null,
   "metadata": {},
   "outputs": [],
   "source": [
    "# Calibration for prediction\n",
    "with torch.no_grad():\n",
    "    emb = C[Xtr] # (N, block_size, n_embd)\n",
    "    embcat = emb.view(emb.shape[0], -1) # concat into (N, block_size * n_embd)\n",
    "    hpreact = embcat @ W1 + b1\n",
    "    bnmean = hpreact.mean(0, keepdim= True)\n",
    "    bnstd = hpreact.std(0, keepdim= True)\n",
    "\n",
    "plt.scatter(bnstd_running, bnstd)"
   ]
  },
  {
   "cell_type": "code",
   "execution_count": null,
   "metadata": {},
   "outputs": [],
   "source": [
    "print(bnmean_running2)"
   ]
  },
  {
   "cell_type": "code",
   "execution_count": null,
   "metadata": {},
   "outputs": [],
   "source": [
    "\n",
    "@torch.no_grad() # this decorator disables gradient tracking\n",
    "def split_loss(split):\n",
    "  x,y = {\n",
    "    'train': (Xtr, Ytr),\n",
    "    'val': (Xdev, Ydev),\n",
    "    'test': (Xte, Yte),\n",
    "  }[split]\n",
    "  emb = C[x] # (N, block_size, n_embd)\n",
    "  embcat = emb.view(emb.shape[0], -1) # concat into (N, block_size * n_embd)\n",
    "  hpreact = embcat @ W1 + b1\n",
    "  hpreact = bngain * (hpreact-hpreact.mean(0, keepdim= True) / hpreact.std(0, keepdim= True) ) - bnbias\n",
    "  h = torch.tanh(hpreact) # hidden layer\n",
    "  logits = h @ W2 + b2 # (N, vocab_size)\n",
    "  loss = F.cross_entropy(logits, y)\n",
    "  print(split, loss.item())\n",
    "\n",
    "split_loss('train')\n",
    "split_loss('val')"
   ]
  },
  {
   "cell_type": "code",
   "execution_count": null,
   "metadata": {},
   "outputs": [],
   "source": [
    "# sample from the model\n",
    "g = torch.Generator().manual_seed(2147483647 + 10)\n",
    "block_size = 3\n",
    "\n",
    "for _ in range(20):\n",
    "    \n",
    "    out = []\n",
    "    context = [0] * block_size # initialize with all ...\n",
    "    while True:\n",
    "      emb = C[torch.tensor([context])] # (1,block_size,d)\n",
    "      h = torch.tanh(emb.view(1, -1) @ W1 + b1)\n",
    "      logits = h @ W2 + b2\n",
    "      probs = F.softmax(logits, dim=1)\n",
    "      ix = torch.multinomial(probs, num_samples=1, generator=g).item()\n",
    "      context = context[1:] + [ix]\n",
    "      out.append(ix)\n",
    "      if ix == 0:\n",
    "        break\n",
    "    \n",
    "    print(''.join(itos[i] for i in out))"
   ]
  },
  {
   "cell_type": "code",
   "execution_count": null,
   "metadata": {},
   "outputs": [],
   "source": []
  },
  {
   "cell_type": "markdown",
   "metadata": {},
   "source": [
    "# Some Corrections"
   ]
  },
  {
   "cell_type": "code",
   "execution_count": null,
   "metadata": {},
   "outputs": [],
   "source": [
    "# build the dataset\n",
    "block_size = 3 # context length: how many characters do we take to predict the next one?\n",
    "\n",
    "def build_dataset(words):  \n",
    "  X, Y = [], []\n",
    "  \n",
    "  for w in words:\n",
    "    context = [0] * block_size\n",
    "    for ch in w + '.':\n",
    "      ix = stoi[ch]\n",
    "      X.append(context)\n",
    "      Y.append(ix)\n",
    "      context = context[1:] + [ix] # crop and append\n",
    "\n",
    "  X = torch.tensor(X)\n",
    "  Y = torch.tensor(Y)\n",
    "  print(X.shape, Y.shape)\n",
    "  return X, Y\n",
    "\n",
    "import random\n",
    "random.seed(42)\n",
    "random.shuffle(words)\n",
    "n1 = int(0.8*len(words))\n",
    "n2 = int(0.9*len(words))\n",
    "\n",
    "Xtr,  Ytr  = build_dataset(words[:n1])     # 80%\n",
    "Xdev, Ydev = build_dataset(words[n1:n2])   # 10%\n",
    "Xte,  Yte  = build_dataset(words[n2:])     # 10%"
   ]
  },
  {
   "cell_type": "code",
   "execution_count": null,
   "metadata": {},
   "outputs": [],
   "source": [
    "# MLP revisited\n",
    "n_embd = 10 # the dimensionality of the character embedding vectors\n",
    "n_hidden = 200 # the number of neurons in the hidden layer of the MLP\n",
    "\n",
    "g = torch.Generator().manual_seed(2147483647) # for reproducibility\n",
    "C  = torch.randn((vocab_size, n_embd),            generator=g)\n",
    "W1 = torch.randn((n_embd * block_size, n_hidden), generator=g) * (5/3)/((n_embd * block_size)**0.5) #* 0.2\n",
    "#b1 = torch.randn(n_hidden,                        generator=g) * 0.01\n",
    "W2 = torch.randn((n_hidden, vocab_size),          generator=g) * 0.01  # scale the weight close to zero (not exactly zero because: )\n",
    "b2 = torch.randn(vocab_size,                      generator=g) * 0  # for initialization the bias shoud be zero (or equal) -> assumption: uniform distribution of all the characters\n",
    "print(b2)\n",
    "# BatchNorm parameters\n",
    "bngain = torch.ones((1, n_hidden))\n",
    "bnbias = torch.zeros((1, n_hidden))\n",
    "bnmean_running = torch.zeros((1, n_hidden))\n",
    "bnstd_running = torch.ones((1, n_hidden))\n",
    "\n",
    "parameters = [C, W1, W2, b2, bngain, bnbias]\n",
    "print(sum(p.nelement() for p in parameters)) # number of parameters in total\n",
    "for p in parameters:\n",
    "  p.requires_grad = True"
   ]
  },
  {
   "cell_type": "code",
   "execution_count": null,
   "metadata": {},
   "outputs": [],
   "source": [
    "# same optimization as last time\n",
    "max_steps = 200000\n",
    "batch_size = 32\n",
    "lossi = []\n",
    "\n",
    "for i in range(max_steps):\n",
    "  \n",
    "  # minibatch construct\n",
    "  ix = torch.randint(0, Xtr.shape[0], (batch_size,), generator=g)\n",
    "  Xb, Yb = Xtr[ix], Ytr[ix] # batch X,Y\n",
    "  \n",
    "  # forward pass\n",
    "  emb = C[Xb] # embed the characters into vectors\n",
    "  embcat = emb.view(emb.shape[0], -1) # concatenate the vectors\n",
    "  # Linear layer\n",
    "  hpreact = embcat @ W1 #+ b1 # hidden layer pre-activation\n",
    "  # BatchNorm layer\n",
    "  # -------------------------------------------------------------\n",
    "  bnmeani = hpreact.mean(0, keepdim=True)\n",
    "  bnstdi = hpreact.std(0, keepdim=True)\n",
    "  hpreact = bngain * (hpreact - bnmeani) / bnstdi + bnbias\n",
    "  with torch.no_grad():\n",
    "    bnmean_running = 0.999 * bnmean_running + 0.001 * bnmeani\n",
    "    bnstd_running = 0.999 * bnstd_running + 0.001 * bnstdi\n",
    "  # -------------------------------------------------------------\n",
    "  # Non-linearity\n",
    "  h = torch.tanh(hpreact) # hidden layer\n",
    "  logits = h @ W2 + b2 # output layer\n",
    "  loss = F.cross_entropy(logits, Yb) # loss function\n",
    "  \n",
    "  # backward pass\n",
    "  for p in parameters:\n",
    "    p.grad = None\n",
    "  loss.backward()\n",
    "  \n",
    "  # update\n",
    "  lr = 0.1 if i < 100000 else 0.01 # step learning rate decay\n",
    "  for p in parameters:\n",
    "    p.data += -lr * p.grad\n",
    "\n",
    "  # track stats\n",
    "  if i % 10000 == 0: # print every once in a while\n",
    "    print(f'{i:7d}/{max_steps:7d}: {loss.item():.4f}')\n",
    "  lossi.append(loss.log10().item())\n",
    "  break"
   ]
  },
  {
   "cell_type": "code",
   "execution_count": null,
   "metadata": {},
   "outputs": [],
   "source": []
  }
 ],
 "metadata": {
  "kernelspec": {
   "display_name": "venv_genai",
   "language": "python",
   "name": "venv_genai"
  },
  "language_info": {
   "codemirror_mode": {
    "name": "ipython",
    "version": 3
   },
   "file_extension": ".py",
   "mimetype": "text/x-python",
   "name": "python",
   "nbconvert_exporter": "python",
   "pygments_lexer": "ipython3",
   "version": "3.10.12"
  }
 },
 "nbformat": 4,
 "nbformat_minor": 2
}
